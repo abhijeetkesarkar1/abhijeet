{
 "cells": [
  {
   "cell_type": "markdown",
   "metadata": {},
   "source": [
    "Task 1:"
   ]
  },
  {
   "cell_type": "markdown",
   "metadata": {},
   "source": [
    "1.1\n",
    "Write a Python Program to implement your own myreduce() function which works exactly like\n",
    "Python's built-in function reduce()"
   ]
  },
  {
   "cell_type": "code",
   "execution_count": 6,
   "metadata": {},
   "outputs": [
    {
     "name": "stdout",
     "output_type": "stream",
     "text": [
      "19\n"
     ]
    }
   ],
   "source": [
    "seq = [10,2,3,4]\n",
    "\n",
    "sum = lambda a,b: a+b\n",
    "def my_reduce(func, seq):\n",
    "    first = seq[0]\n",
    "    for i in seq[1:]:\n",
    "        first = func(first, i)\n",
    "    return first\n",
    "print(my_reduce(sum, seq))"
   ]
  },
  {
   "cell_type": "markdown",
   "metadata": {},
   "source": [
    "1.2\n",
    "Write a Python program to implement your own myfilter() function which works exactly like\n",
    "Python's built-in function filter()"
   ]
  },
  {
   "cell_type": "code",
   "execution_count": 7,
   "metadata": {},
   "outputs": [
    {
     "name": "stdout",
     "output_type": "stream",
     "text": [
      "Even Numbers are: \n",
      "[6, 8, 4, 6]\n",
      "Odd Numbers are: \n",
      "[5, 7, 3, 5]\n"
     ]
    }
   ],
   "source": [
    "#my_filter function\n",
    "#myfilter(func, seq)\n",
    "seq=[5,6,7,8,3,4,5,6]\n",
    "#even number\n",
    "is_even = lambda a: True if a%2==0 else False \n",
    "is_odd = lambda a: True if a%2!=0 else False \n",
    "m=[]\n",
    "def myfilter(func, seq1):\n",
    "    for i in range(len(seq1)):\n",
    "        if func(seq1[i])==True : \n",
    "            m.append(seq1[i])\n",
    "    print(m)\n",
    "\n",
    "print(\"Even Numbers are: \")    \n",
    "myfilter(is_even, seq)\n",
    "m=[]\n",
    "print(\"Odd Numbers are: \")    \n",
    "myfilter(is_odd, seq)\n",
    "m=[]"
   ]
  },
  {
   "cell_type": "markdown",
   "metadata": {},
   "source": [
    "2.\n",
    "Implement List comprehensions to produce the following lists.\n",
    "Write List comprehensions to produce the following Lists"
   ]
  },
  {
   "cell_type": "markdown",
   "metadata": {},
   "source": [
    "['A', 'C', 'A', 'D', 'G', 'I', ’L’, ‘ D’]\n",
    "\n",
    "['x', 'xx', 'xxx', 'xxxx', 'y', 'yy', 'yyy', 'yyyy', 'z', 'zz', 'zzz', 'zzzz']\n",
    "\n",
    "['x', 'y', 'z', 'xx', 'yy', 'zz', 'xx', 'yy', 'zz', 'xxxx', 'yyyy', 'zzzz']\n",
    "\n",
    "[[2], [3], [4], [3], [4], [5], [4], [5], [6]]\n",
    "\n",
    "[[2, 3, 4, 5], [3, 4, 5, 6], [4, 5, 6, 7], [5, 6, 7, 8]]\n",
    "\n",
    "[(1, 1), (2, 1), (3, 1), (1, 2), (2, 2), (3, 2), (1, 3), (2, 3), (3, 3)]"
   ]
  },
  {
   "cell_type": "code",
   "execution_count": 8,
   "metadata": {},
   "outputs": [
    {
     "name": "stdout",
     "output_type": "stream",
     "text": [
      "['A', 'C', 'A', 'D', 'G', 'I', 'L', 'D']\n",
      "['A', 'C', 'A', 'D', 'G', 'I', 'L', 'D']\n"
     ]
    }
   ],
   "source": [
    "str = 'ACADGILD'\n",
    "result = [i for i in str]\n",
    "print(result)\n",
    "#solution 2\n",
    "m = []\n",
    "for i in str:\n",
    "    m.append(i)\n",
    "print(list(m))"
   ]
  },
  {
   "cell_type": "code",
   "execution_count": 9,
   "metadata": {},
   "outputs": [
    {
     "name": "stdout",
     "output_type": "stream",
     "text": [
      "['x', 'xx', 'xxx', 'xxxx', 'y', 'yy', 'yyy', 'yyyy', 'z', 'zz', 'zzz', 'zzzz']\n",
      "['x', 'xx', 'xxx', 'xxxx', 'y', 'yy', 'yyy', 'yyyy', 'z', 'zz', 'zzz', 'zzzz']\n"
     ]
    }
   ],
   "source": [
    "#['x', 'xx', 'xxx', 'xxxx', 'y', 'yy', 'yyy', 'yyyy', 'z', 'zz', 'zzz', 'zzzz']\n",
    "input_list = ['x','y','z']\n",
    "res1 = [i*j for i in input_list for j in range(1,5)]\n",
    "print(res1)\n",
    "\n",
    "# solution 2\n",
    "m= []\n",
    "for i in input_list:\n",
    "    for j in range(1,5):\n",
    "        m.append(i*j)\n",
    "# print(\"['x','y','z'] => \" +   str(result))\n",
    "print(list(m))"
   ]
  },
  {
   "cell_type": "code",
   "execution_count": 11,
   "metadata": {},
   "outputs": [
    {
     "name": "stdout",
     "output_type": "stream",
     "text": [
      "['x', 'y', 'z', 'xx', 'yy', 'zz', 'xxx', 'yyy', 'zzz', 'xxxx', 'yyyy', 'zzzz']\n",
      "['x', 'y', 'z', 'xx', 'yy', 'zz', 'xxx', 'yyy', 'zzz', 'xxxx', 'yyyy', 'zzzz']\n"
     ]
    }
   ],
   "source": [
    "# ['x', 'y', 'z', 'xx', 'yy', 'zz', 'xx', 'yy', 'zz', 'xxxx', 'yyyy', 'zzzz']\n",
    "input_list = ['x', 'y', 'z']\n",
    "res2 = [i*j for i in range(1,5) for j in input_list]\n",
    "print(res2)\n",
    "\n",
    "#solution 2\n",
    "m=[]\n",
    "for i in range(1,5):\n",
    "    for j in input_list:\n",
    "         m.append(i*j)\n",
    "print(m)\n"
   ]
  },
  {
   "cell_type": "code",
   "execution_count": 15,
   "metadata": {},
   "outputs": [
    {
     "name": "stdout",
     "output_type": "stream",
     "text": [
      "[[2], [3], [4], [3], [4], [5], [4], [5], [6]]\n",
      "[2, 3, 4, 3, 4, 5, 4, 5, 6]\n"
     ]
    }
   ],
   "source": [
    "# [[2], [3], [4], [3], [4], [5], [4], [5], [6]]\n",
    "\n",
    "input_list = [2,3,4]\n",
    "res1 = [[i+j] for i in input_list for j in range(0,3)]\n",
    "print(res1)\n",
    "\n",
    "#Solution2 - unable to print individual in list format\n",
    "m=[]\n",
    "for i in input_list:\n",
    "    for j in range(0,3):\n",
    "        m.append(i+j)\n",
    "print(list(m))"
   ]
  },
  {
   "cell_type": "code",
   "execution_count": 16,
   "metadata": {},
   "outputs": [
    {
     "name": "stdout",
     "output_type": "stream",
     "text": [
      "[[2, 3, 4, 5], [3, 4, 5, 6], [4, 5, 6, 7], [5, 6, 7, 8]]\n"
     ]
    }
   ],
   "source": [
    "#[[2, 3, 4, 5], [3, 4, 5, 6], [4, 5, 6, 7], [5, 6, 7, 8]]\n",
    "input_list = [2, 3, 4, 5]\n",
    "res1 = [[i+j for i in input_list] for j in range(0,4)]\n",
    "print(res1)"
   ]
  },
  {
   "cell_type": "code",
   "execution_count": 17,
   "metadata": {},
   "outputs": [
    {
     "name": "stdout",
     "output_type": "stream",
     "text": [
      "[(1, 1), (2, 1), (3, 1), (1, 2), (2, 2), (3, 2), (1, 3), (2, 3), (3, 3)]\n"
     ]
    }
   ],
   "source": [
    "#[(1, 1), (2, 1), (3, 1), (1, 2), (2, 2), (3, 2), (1, 3), (2, 3), (3, 3)]\n",
    "input_list = [1,2,3]\n",
    "res1 = [(j, i) for i in input_list for j in input_list]\n",
    "print(res1)"
   ]
  },
  {
   "cell_type": "markdown",
   "metadata": {},
   "source": [
    "3 \n",
    "\n",
    "Implement a function longestWord() that \n",
    "takes a list of words and\n",
    "returns the longest one\n"
   ]
  },
  {
   "cell_type": "code",
   "execution_count": 18,
   "metadata": {},
   "outputs": [
    {
     "name": "stdout",
     "output_type": "stream",
     "text": [
      "The Longest Word is :  ffggfjfdjikj\n"
     ]
    }
   ],
   "source": [
    "\n",
    "def longest_word(word_list):\n",
    "    a,b=0,0\n",
    "    for i in word_list:\n",
    "        a=len(i)\n",
    "        if(b<a):\n",
    "            b=a\n",
    "            long_word=i\n",
    "    print(\"The Longest Word is : \", long_word)\n",
    "    \n",
    "longest_word(['abc','ffggfjfdjikj','abcde','ab'])"
   ]
  },
  {
   "cell_type": "markdown",
   "metadata": {},
   "source": [
    "# Task 2:\n",
    "1.1\n",
    "Write a Python Program(with class concepts) to find the area of the triangle using the below\n",
    "formula.\n",
    "area = (s*(s-a)*(s-b)*(s-c)) ** 0.5\n",
    "\n",
    "Function to take the length of the sides of triangle from user should be defined in the parent\n",
    "class and function to calculate the area should be defined in subclass."
   ]
  },
  {
   "cell_type": "code",
   "execution_count": 3,
   "metadata": {},
   "outputs": [
    {
     "name": "stdout",
     "output_type": "stream",
     "text": [
      "5\n",
      "6\n",
      "3\n",
      "Area of Triangle = 7.48\n"
     ]
    }
   ],
   "source": [
    "class DataIn:\n",
    "    def __init__(self, n):\n",
    "        self.n = n\n",
    "        self.sides = [0 for i in range(n)]\n",
    "    def input_len_sides(self):\n",
    "        self.sides = [float(input()) for i in range(self.n)]\n",
    "class Triangle(DataIn):\n",
    "    def __init__(self):\n",
    "        DataIn.__init__(self,3)\n",
    "    def area(self):\n",
    "        a,b,c = self.sides\n",
    "        #semi-perimeter\n",
    "        s= (a+b+c)/2\n",
    "        area = (s*(s-a)*(s-b)*(s-c))**0.5\n",
    "        print(\"Area of Triangle = %0.2f\" %area)\n",
    "\n",
    "t = Triangle()        \n",
    "t.input_len_sides()\n",
    "t.area()"
   ]
  },
  {
   "cell_type": "markdown",
   "metadata": {},
   "source": [
    "1.2\n",
    "\n",
    "Write a function filter_long_words() that takes a list of words and an integer n and returns the list\n",
    "of words that are longer than n."
   ]
  },
  {
   "cell_type": "code",
   "execution_count": 33,
   "metadata": {},
   "outputs": [
    {
     "name": "stdout",
     "output_type": "stream",
     "text": [
      "['cbggggd', 'dffffdf']\n"
     ]
    }
   ],
   "source": [
    "\n",
    "def filter_long_words(word_list, n):\n",
    "    m=[]\n",
    "    for i in word_list:\n",
    "        if len(i)>n:\n",
    "            m.append(i)\n",
    "    print(m)        \n",
    "\n",
    "filter_long_words([\"ab\",\"abc\", \"cbggggd\", \"try\", \"dffffdf\",\"fd\"], 3)"
   ]
  },
  {
   "cell_type": "markdown",
   "metadata": {},
   "source": [
    "2.1\n",
    "\n",
    "Write a Python program using function concept \n",
    "that maps list of words into a list of integers representing\n",
    "the lengths of the corresponding words .\n",
    "\n",
    "Hint: If a list [ ab,cde,erty] is passed on to the python function,\n",
    "output should come as [2,3,4]\n",
    "\n",
    "Here 2,3 and 4 are the lengths of the words in the list."
   ]
  },
  {
   "cell_type": "code",
   "execution_count": 48,
   "metadata": {},
   "outputs": [
    {
     "name": "stdout",
     "output_type": "stream",
     "text": [
      "[2, 3, 2, 6, 9]\n"
     ]
    }
   ],
   "source": [
    "def len_of_words(word_list):\n",
    "    m=[]\n",
    "    for i in word_list:\n",
    "        m.append(len(i))\n",
    "    print(m)    \n",
    "len_of_words([\"ab\",\"abc\",\"gh\",\"123456\",\"123456789\"])\n",
    "\n"
   ]
  },
  {
   "cell_type": "markdown",
   "metadata": {},
   "source": [
    "2.2\n",
    "\n",
    "Write a Python function which takes a character (i.e. a string of length 1) and returns True if it is a vowel, False otherwise."
   ]
  },
  {
   "cell_type": "code",
   "execution_count": 56,
   "metadata": {},
   "outputs": [
    {
     "name": "stdout",
     "output_type": "stream",
     "text": [
      "True\n",
      "False\n"
     ]
    }
   ],
   "source": [
    "def isvowel(chr):\n",
    "    vowel = ['a','e','i','o','u']\n",
    "    if chr in vowel:\n",
    "        return True\n",
    "    else:\n",
    "        return False\n",
    "\n",
    "print(isvowel('a'))\n",
    "print(isvowel('g'))\n"
   ]
  },
  {
   "cell_type": "code",
   "execution_count": null,
   "metadata": {},
   "outputs": [],
   "source": []
  }
 ],
 "metadata": {
  "kernelspec": {
   "display_name": "Python 3",
   "language": "python",
   "name": "python3"
  },
  "language_info": {
   "codemirror_mode": {
    "name": "ipython",
    "version": 3
   },
   "file_extension": ".py",
   "mimetype": "text/x-python",
   "name": "python",
   "nbconvert_exporter": "python",
   "pygments_lexer": "ipython3",
   "version": "3.7.4"
  }
 },
 "nbformat": 4,
 "nbformat_minor": 2
}
